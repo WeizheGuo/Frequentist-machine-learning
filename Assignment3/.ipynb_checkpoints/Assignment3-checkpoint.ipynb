{
 "cells": [
  {
   "cell_type": "code",
   "execution_count": 37,
   "metadata": {},
   "outputs": [
    {
     "name": "stdout",
     "output_type": "stream",
     "text": [
      "320\n",
      "360\n",
      "400\n"
     ]
    }
   ],
   "source": [
    "import pandas as pd\n",
    "import numpy as np\n",
    "import warnings\n",
    "warnings.filterwarnings(\"ignore\")\n",
    "import matplotlib.pyplot as plt\n",
    "from sklearn import preprocessing\n",
    "\n",
    "df = pd.read_csv(\"/Users/guoweizhe/Documents/ECE-475/Assignment3/Social_Network_Ads.csv\") \n",
    "df['Gender'] = df['Gender'].apply(lambda x: 1 if x=='Male' else 0)\n",
    "\n",
    "np.append(np.ones((len(df), 1)), df, axis = 1)\n",
    "\n",
    "row_train = (int)(df.shape[0]*0.8)\n",
    "row_val = (int)(df.shape[0]*0.9)\n",
    "row_test = (int)(df.shape[0])\n",
    "\n",
    "xtra_set = df. iloc [0:row_train, 1:4]\n",
    "xtra_set['const'] = np.ones(row_train)\n",
    "xtra_set = np.array(xtra_set)\n",
    "\n",
    "xval_set = df.iloc[row_train:row_val,1:4]\n",
    "xval_set['const'] = np.ones(row_val - row_train)\n",
    "xval_set = np.array(xval_set)\n",
    "\n",
    "xtest_set = df.iloc[row_val:row_test,1:4]\n",
    "xtest_set['const'] = np.ones(row_test - row_val)\n",
    "xtest_set = np.array(xtest_set)\n",
    "\n",
    "ytra_set = np.array(df.iloc[0:row_train,4])\n",
    "yval_set = np.array(df.iloc[row_train:row_val,4])\n",
    "ytest_set = np.array(df.iloc[row_val:row_test,4])\n",
    "\n",
    "#normalization\n",
    "xtra_set = preprocessing.scale(xtra_set)\n",
    "xval_set = preprocessing.scale(xval_set)\n",
    "xtest_set = preprocessing.scale(xtest_set)\n",
    "\n",
    "print(row_train)\n",
    "print(row_val)\n",
    "print(row_test)\n"
   ]
  },
  {
   "cell_type": "code",
   "execution_count": 40,
   "metadata": {},
   "outputs": [
    {
     "name": "stdout",
     "output_type": "stream",
     "text": [
      "best lamda with regularization is: 5.0000\n"
     ]
    }
   ],
   "source": [
    "# logistic regression and SGD, cross-validate to find the proper lamda for regularized data\n",
    "import random\n",
    "\n",
    "rand_ind = np.zeros(20000)\n",
    "\n",
    "for x in range(20000):\n",
    "    rand_ind[x]= random.randint(0,row_train-1)\n",
    "#print(rand_ind)\n",
    "lams = [10000, 5000, 1000, 500, 100, 50,10, 5, 1, 0.8, 0.5, 0.2, 0.15, 0.1, 0.08, 0.05, 0.01, 0.005, 0.001, 0.0005, 0.0001]\n",
    "irange = np.arange(0, 39, 1)\n",
    "\n",
    "alpha = 0.001\n",
    "\n",
    "def likelihood(w1, w2, xtra_set, ytra_set, lam):\n",
    "    g1 = 0\n",
    "    g2 = 0\n",
    "    J1 = 1\n",
    "    J2 = 1\n",
    "    J1 = np.log(np.prod(np.power(1 / (1 + np.exp(-np.dot(xtra_set, w1))), ytra_set) * np.power(1 - 1 / (1 + np.exp(-np.dot(xtra_set, w1))), 1 - ytra_set)))\n",
    "    J2 = np.log(np.prod(np.power(1 / (1 + np.exp(-np.dot(xtra_set, w2))), ytra_set) * np.power(1 - 1 / (1 + np.exp(-np.dot(xtra_set, w2))), 1 - ytra_set)))\n",
    "    return J1, J2\n",
    "       \n",
    "        \n",
    "def gradient_descent(w1, w2, xtra_set, y_tra_set, lam, rand_ind, J_all, J_all2):\n",
    "    #J_all = np.zeros((20000, 1))\n",
    "    #J_all2 = np.zeros((20000, 1))\n",
    "    for j in range(20000):\n",
    "        k = int(rand_ind[j])\n",
    "        J_all[j], J_all2[j] = likelihood(w1, w2, xtra_set, ytra_set, lam)\n",
    "        w1 = w1 - alpha * ((1 / (1 + np.exp(-np.dot(xtra_set[k], w1))) - ytra_set[k]) * xtra_set[k] + lam * w1)\n",
    "        w2 = w2 - alpha * ((1 / (1 + np.exp(-np.dot(xtra_set[k], w2))) - ytra_set[k]) * xtra_set[k])\n",
    "    \n",
    "    return w1, w2, J_all, J_all2\n",
    "    \n",
    "max_correct = 0\n",
    "best_lamda = 0\n",
    "\n",
    "for lam in lams:\n",
    "    #print (lam)\n",
    "    w1 = np.zeros(4)\n",
    "    w2 = np.zeros(4)\n",
    "    J_all = np.zeros((20000, 1))\n",
    "    J_all2 = np.zeros((20000, 1))\n",
    "    w1, w2,_,_ = gradient_descent(w1, w2, xtra_set, ytra_set, lam, rand_ind, J_all, J_all2)\n",
    "    \n",
    "    y_pred = np.zeros(row_val - row_train)\n",
    "    ncorrect =0\n",
    "    for i in irange:\n",
    "        y_pred[i] = 1 / (1 + np.exp(-np.dot(np.array(w1),np.array(xval_set[i]))))\n",
    "        #print(y_pred[i])\n",
    "        y_pred[i] = 0 if y_pred[i] <= 0.5 else 1\n",
    "        if yval_set[i] == y_pred[i]:\n",
    "            ncorrect = ncorrect + 1\n",
    "            #print(ncorrect)\n",
    "    correct_rate = ncorrect/(row_val - row_train)\n",
    "    #print(correct_rate)\n",
    "    \n",
    "    if max_correct < correct_rate:\n",
    "        max_correct = correct_rate\n",
    "        best_lamda = lam\n",
    "        \n",
    "print('best lamda with regularization is: %.4f' % best_lamda)\n"
   ]
  },
  {
   "cell_type": "code",
   "execution_count": 41,
   "metadata": {},
   "outputs": [
    {
     "name": "stdout",
     "output_type": "stream",
     "text": [
      "In conclusion, the regularized SGD converges to a lower likelihodd because it adds in a penalization term to prevent it getting overfit.\n"
     ]
    },
    {
     "data": {
      "image/png": "[encoded data removed]",
      "text/plain": [
       "<Figure size 432x288 with 2 Axes>"
      ]
     },
     "metadata": {},
     "output_type": "display_data"
    }
   ],
   "source": [
    "# plot the two graphs of likelihood vs. iterations\n",
    "\n",
    "w1_best = np.zeros(4)\n",
    "w2_best = np.zeros(4)\n",
    "w1_best, w2_best, J_all, J_all2 = gradient_descent(w1_best, w2_best, xtra_set, ytra_set, best_lamda, rand_ind, J_all, J_all2)\n",
    "\n",
    "\n",
    "#print(J_all2)\n",
    "n = range(20000)\n",
    "plt.subplot(211)\n",
    "plt.plot(n, J_all)\n",
    "plt.xlabel('iterations n') \n",
    "plt.ylabel('likelihood') \n",
    "plt.title('SGD with regularization') \n",
    "\n",
    "plt.subplot(212)\n",
    "plt.plot(n, J_all2)\n",
    "plt.xlabel('iterations n') \n",
    "plt.ylabel('likelihood') \n",
    "plt.title('SGD without regularization') \n",
    "\n",
    "print('In conclusion, the regularized SGD converges to a lower likelihodd because it adds in a penalization term to prevent it getting overfit.')"
   ]
  },
  {
   "cell_type": "code",
   "execution_count": 42,
   "metadata": {},
   "outputs": [
    {
     "name": "stdout",
     "output_type": "stream",
     "text": [
      "correct percentage on test set with regularization: 0.800\n",
      "correct percentage on test set without regularization: 0.8000\n",
      "Because the dataset size is too small, the test set only contains 30 entries. And this might cause the relatively lower correct percentage.\n"
     ]
    }
   ],
   "source": [
    "def test(w, xtest_set):\n",
    "    y_pred = np.zeros(40)\n",
    "    ncorrect =0\n",
    "    for i in irange:\n",
    "        y_pred[i] = 1 / (1 + np.exp(-np.dot(np.array(w),np.array(xtest_set[i]))))\n",
    "        #print(y_pred[i])\n",
    "        y_pred[i] = 0 if y_pred[i] <= 0.5 else 1\n",
    "        if ytest_set[i] == y_pred[i]:\n",
    "            ncorrect = ncorrect + 1\n",
    "            #print(ncorrect)\n",
    "        #print (y_pred)\n",
    "    correct_rate = ncorrect/30\n",
    "    return correct_rate\n",
    "\n",
    "test1 = test(w1_best, xtest_set)\n",
    "test2 = test(w2_best, xtest_set)\n",
    "print('correct percentage on test set with regularization: %.3f' %test1 )\n",
    "print('correct percentage on test set without regularization: %.4f' %test2)\n",
    "print('Because the dataset size is too small, the test set only contains 30 entries. And this might cause the relatively lower correct percentage.')"
   ]
  }
 ],
 "metadata": {
  "kernelspec": {
   "display_name": "Python 3",
   "language": "python",
   "name": "python3"
  },
  "language_info": {
   "codemirror_mode": {
    "name": "ipython",
    "version": 3
   },
   "file_extension": ".py",
   "mimetype": "text/x-python",
   "name": "python",
   "nbconvert_exporter": "python",
   "pygments_lexer": "ipython3",
   "version": "3.6.5"
  }
 },
 "nbformat": 4,
 "nbformat_minor": 2
}

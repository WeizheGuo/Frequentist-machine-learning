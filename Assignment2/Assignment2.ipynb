{
 "cells": [
  {
   "cell_type": "code",
   "execution_count": 1,
   "metadata": {},
   "outputs": [],
   "source": [
    "# Weizhe Guo\n",
    "# ECE 475\n",
    "# Assignment 2\n",
    "\n",
    "# Assignment 2: Doing three types of regression on the dataset: Linear, Ridge and Lasso\n",
    "import pandas as pd\n",
    "import numpy as np\n",
    "import warnings\n",
    "warnings.filterwarnings(\"ignore\")\n",
    "import matplotlib.pyplot as plt\n",
    "\n",
    "#import data and convert month and day columns into numbers ready for regression\n",
    "df = pd.read_csv(\"/Users/guoweizhe/Documents/ECE-475/Assignment2/forestfires.csv\") \n",
    "monthmap = {'jan':1, 'feb':2, 'mar':3, 'apr':4, 'may':5, 'jun':6, 'jul':7, 'aug':8, 'sep':9, 'oct':10, 'nov': 11, 'dec':12}\n",
    "daymap = {'mon':1, 'tue':2, 'wed':3, 'thu':4, 'fri':5, 'sat':6, 'sun':7}\n",
    "df.month = df.month.map(monthmap)\n",
    "df.day = df.day.map(daymap)\n",
    "\n",
    "#ydf = df['x']\n",
    "df = df.drop(columns = ['X','Y','month','day'])\n",
    "# normalization of each feature\n",
    "#normset = np.array(df.apply(lambda x:x-np.mean(x), axis=0))\n",
    "\n",
    "#partitioning the data into three parts\n",
    "row_train = (int)(df.shape[0]*0.8)\n",
    "row_val = (int)(df.shape[0]*0.9)\n",
    "row_test = (int)(df.shape[0]-row_val)\n",
    "\n",
    "xtra_set = df. iloc [0:row_train, 1:9]\n",
    "xtra_set = np.array(xtra_set)\n",
    "\n",
    "#normalization of validation data set\n",
    "xval_set = df.iloc[row_train:row_val,1:9]\n",
    "xval_set = xval_set.apply(lambda x:x-np.mean(x), axis=0)\n",
    "xval_set = np.array(xval_set)\n",
    "\n",
    "xtest_set = df.iloc[0:row_test,1:9]\n",
    "xtest_set = np.array(xtest_set)\n",
    "\n",
    "ytra_set = np.array(df.iloc[0:row_train,0])\n",
    "yval_set = np.array(df.iloc[row_train:row_val,0])\n",
    "ytest_set = np.array(df.iloc[row_val:,0])\n",
    "\n",
    "#print(ytra_set.shape)\n",
    "#print(xtra_set)"
   ]
  },
  {
   "cell_type": "code",
   "execution_count": 2,
   "metadata": {},
   "outputs": [
    {
     "name": "stdout",
     "output_type": "stream",
     "text": [
      "[-4.97051241e-02  3.22095080e-03  3.80742911e-01  2.65284573e+00\n",
      "  6.35913448e-01  3.36974462e+00 -3.98746079e+01  4.13133415e-03]\n",
      "linear regression MSE (greatest among all three): 132.81672991568132\n"
     ]
    }
   ],
   "source": [
    "# for linear model, dont need validation set\n",
    "\n",
    "lin_beta = np.linalg.inv(xtra_set.T @ xtra_set) @ xtra_set.T @ ytra_set\n",
    "lin_MSE = np.mean((ytest_set - xtest_set @ lin_beta) ** 2)\n",
    "print(lin_beta)\n",
    "print('linear regression MSE (greatest among all three):',lin_MSE)\n"
   ]
  },
  {
   "cell_type": "code",
   "execution_count": 3,
   "metadata": {},
   "outputs": [
    {
     "name": "stdout",
     "output_type": "stream",
     "text": [
      "[-0.0536215   0.00386551  0.38039178  2.67373973  0.63319681  3.264136\n",
      " -1.34915948  0.00463629]\n",
      "ridge regression MSE 132.21205683402835\n"
     ]
    }
   ],
   "source": [
    "lam_ridge = 0\n",
    "min_mse = 9999\n",
    "lams = np.arange(0, 30, 0.01)\n",
    "\n",
    "for lam in lams:\n",
    "    ridge_beta = np.linalg.inv(xtra_set.T @ xtra_set + lam * np.eye(8)) @ xtra_set.T @ ytra_set\n",
    "    mse_valid = np.mean((yval_set - xval_set @ ridge_beta)**2)\n",
    "    if mse_valid < min_mse:\n",
    "        min_mse = mse_valid\n",
    "        lam_ridge = lam\n",
    "        \n",
    "\n",
    "ridge_beta = np.linalg.inv(xtra_set.T @ xtra_set + lam_ridge * np.eye(8)) @ xtra_set.T @ ytra_set\n",
    "ridge_MSE = np.mean((ytest_set - xtest_set @ ridge_beta)**2)\n",
    "\n",
    "print(ridge_beta)\n",
    "print('ridge regression MSE', ridge_MSE)\n"
   ]
  },
  {
   "cell_type": "code",
   "execution_count": 4,
   "metadata": {},
   "outputs": [
    {
     "name": "stdout",
     "output_type": "stream",
     "text": [
      "Lasso regression MSE (smallest among all three): 37.66130707205899\n"
     ]
    }
   ],
   "source": [
    "from sklearn.linear_model import Lasso\n",
    "\n",
    "#Thanks for Zheng Alex Liu for helping me figure out bug in this part of my code\n",
    "best_beta = 0\n",
    "min_mse2 = 9999\n",
    "betas = np.arange(0, 30, 0.01)\n",
    "\n",
    "for beta in betas:\n",
    "    lasso = Lasso(alpha = beta, fit_intercept=True, normalize=True)\n",
    "    lasso.fit(xtra_set, ytra_set)\n",
    "    ypred = lasso.predict(xval_set)\n",
    "    mse_lasso = np.mean((yval_set - ypred) ** 2)\n",
    "    if mse_valid < min_mse2:\n",
    "        min_mse2 = mse_valid\n",
    "        lasso_beta = beta\n",
    "\n",
    "lasso = Lasso(alpha = lasso_beta)\n",
    "lasso.fit(xtra_set, ytra_set)\n",
    "pred_y = lasso.predict(xtest_set)\n",
    "pred_y_train = lasso.predict(xtra_set)\n",
    "lasso_MSE = np.mean((ytest_set - pred_y)**2)\n",
    "\n",
    "\n",
    "print('Lasso regression MSE (smallest among all three):',lasso_MSE)\n"
   ]
  },
  {
   "cell_type": "code",
   "execution_count": 5,
   "metadata": {},
   "outputs": [
    {
     "name": "stdout",
     "output_type": "stream",
     "text": [
      "."
     ]
    },
    {
     "data": {
      "image/png": "[encoded data removed]",
      "text/plain": [
       "<Figure size 432x288 with 1 Axes>"
      ]
     },
     "metadata": {},
     "output_type": "display_data"
    }
   ],
   "source": [
    "from sklearn.linear_model import lasso_path\n",
    "from sklearn import linear_model\n",
    "\n",
    "alphas, _, coefs = linear_model.lars_path(xtra_set, ytra_set.flatten(), method='lasso', verbose=True)\n",
    "\n",
    "xx = np.sum(np.abs(coefs.T), axis=1)\n",
    "xx /= xx[-1]\n",
    "\n",
    "plt.plot(xx, coefs.T)\n",
    "ymin, ymax = plt.ylim()\n",
    "plt.vlines(xx, ymin, ymax, linestyle='dashed')\n",
    "plt.ylabel('Coefficients')\n",
    "plt.title('Lasso plot')\n",
    "plt.show()"
   ]
  }
 ],
 "metadata": {
  "kernelspec": {
   "display_name": "Python 3",
   "language": "python",
   "name": "python3"
  },
  "language_info": {
   "codemirror_mode": {
    "name": "ipython",
    "version": 3
   },
   "file_extension": ".py",
   "mimetype": "text/x-python",
   "name": "python",
   "nbconvert_exporter": "python",
   "pygments_lexer": "ipython3",
   "version": "3.6.5"
  }
 },
 "nbformat": 4,
 "nbformat_minor": 2
}

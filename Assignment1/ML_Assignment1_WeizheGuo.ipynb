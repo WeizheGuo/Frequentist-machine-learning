{
 "cells": [
  {
   "cell_type": "code",
   "execution_count": 1,
   "metadata": {},
   "outputs": [
    {
     "data": {
      "text/html": [
       "<div>\n",
       "<style scoped>\n",
       "    .dataframe tbody tr th:only-of-type {\n",
       "        vertical-align: middle;\n",
       "    }\n",
       "\n",
       "    .dataframe tbody tr th {\n",
       "        vertical-align: top;\n",
       "    }\n",
       "\n",
       "    .dataframe thead th {\n",
       "        text-align: right;\n",
       "    }\n",
       "</style>\n",
       "<table border=\"1\" class=\"dataframe\">\n",
       "  <thead>\n",
       "    <tr style=\"text-align: right;\">\n",
       "      <th></th>\n",
       "      <th>date</th>\n",
       "      <th>home_team</th>\n",
       "      <th>away_team</th>\n",
       "      <th>home_score</th>\n",
       "      <th>away_score</th>\n",
       "      <th>tournament</th>\n",
       "      <th>city</th>\n",
       "      <th>country</th>\n",
       "      <th>neutral</th>\n",
       "    </tr>\n",
       "  </thead>\n",
       "  <tbody>\n",
       "    <tr>\n",
       "      <th>0</th>\n",
       "      <td>1872-11-30</td>\n",
       "      <td>Scotland</td>\n",
       "      <td>England</td>\n",
       "      <td>0</td>\n",
       "      <td>0</td>\n",
       "      <td>Friendly</td>\n",
       "      <td>Glasgow</td>\n",
       "      <td>Scotland</td>\n",
       "      <td>False</td>\n",
       "    </tr>\n",
       "    <tr>\n",
       "      <th>1</th>\n",
       "      <td>1873-03-08</td>\n",
       "      <td>England</td>\n",
       "      <td>Scotland</td>\n",
       "      <td>4</td>\n",
       "      <td>2</td>\n",
       "      <td>Friendly</td>\n",
       "      <td>London</td>\n",
       "      <td>England</td>\n",
       "      <td>False</td>\n",
       "    </tr>\n",
       "    <tr>\n",
       "      <th>2</th>\n",
       "      <td>1874-03-07</td>\n",
       "      <td>Scotland</td>\n",
       "      <td>England</td>\n",
       "      <td>2</td>\n",
       "      <td>1</td>\n",
       "      <td>Friendly</td>\n",
       "      <td>Glasgow</td>\n",
       "      <td>Scotland</td>\n",
       "      <td>False</td>\n",
       "    </tr>\n",
       "    <tr>\n",
       "      <th>3</th>\n",
       "      <td>1875-03-06</td>\n",
       "      <td>England</td>\n",
       "      <td>Scotland</td>\n",
       "      <td>2</td>\n",
       "      <td>2</td>\n",
       "      <td>Friendly</td>\n",
       "      <td>London</td>\n",
       "      <td>England</td>\n",
       "      <td>False</td>\n",
       "    </tr>\n",
       "    <tr>\n",
       "      <th>4</th>\n",
       "      <td>1876-03-04</td>\n",
       "      <td>Scotland</td>\n",
       "      <td>England</td>\n",
       "      <td>3</td>\n",
       "      <td>0</td>\n",
       "      <td>Friendly</td>\n",
       "      <td>Glasgow</td>\n",
       "      <td>Scotland</td>\n",
       "      <td>False</td>\n",
       "    </tr>\n",
       "  </tbody>\n",
       "</table>\n",
       "</div>"
      ],
      "text/plain": [
       "         date home_team away_team  home_score  away_score tournament     city  \\\n",
       "0  1872-11-30  Scotland   England           0           0   Friendly  Glasgow   \n",
       "1  1873-03-08   England  Scotland           4           2   Friendly   London   \n",
       "2  1874-03-07  Scotland   England           2           1   Friendly  Glasgow   \n",
       "3  1875-03-06   England  Scotland           2           2   Friendly   London   \n",
       "4  1876-03-04  Scotland   England           3           0   Friendly  Glasgow   \n",
       "\n",
       "    country  neutral  \n",
       "0  Scotland    False  \n",
       "1   England    False  \n",
       "2  Scotland    False  \n",
       "3   England    False  \n",
       "4  Scotland    False  "
      ]
     },
     "execution_count": 1,
     "metadata": {},
     "output_type": "execute_result"
    }
   ],
   "source": [
    "# Weizhe Guo\n",
    "# ECE 475\n",
    "# Assignment 1\n",
    "import pandas as pd\n",
    "import warnings\n",
    "warnings.filterwarnings(\"ignore\")\n",
    "import seaborn as sns\n",
    "import matplotlib.pyplot as plt\n",
    "sns.set(style=\"white\", color_codes=True)\n",
    "\n",
    "Result = pd.read_csv(\"/Users/guoweizhe/Documents/ECE-475/results.csv\") \n",
    "Result.head()\n",
    "\n",
    "# Ackowledgement: I use several data visualization methods from https://www.kaggle.com/benhamner/python-data-visualizations"
   ]
  },
  {
   "cell_type": "code",
   "execution_count": 2,
   "metadata": {},
   "outputs": [
    {
     "data": {
      "text/plain": [
       "Brazil                       552\n",
       "Argentina                    535\n",
       "Germany                      495\n",
       "Mexico                       494\n",
       "England                      483\n",
       "Sweden                       478\n",
       "France                       471\n",
       "Korea Republic               449\n",
       "Hungary                      445\n",
       "Italy                        434\n",
       "Austria                      411\n",
       "Netherlands                  409\n",
       "Belgium                      402\n",
       "USA                          400\n",
       "Switzerland                  396\n",
       "Denmark                      395\n",
       "Norway                       389\n",
       "Chile                        385\n",
       "Poland                       375\n",
       "Scotland                     369\n",
       "Egypt                        368\n",
       "Kenya                        360\n",
       "Japan                        356\n",
       "Saudi Arabia                 351\n",
       "Spain                        351\n",
       "Uruguay                      339\n",
       "Malawi                       327\n",
       "China                        326\n",
       "Thailand                     322\n",
       "Indonesia                    321\n",
       "                            ... \n",
       "Darfur                         4\n",
       "Bonaire                        4\n",
       "Monaco                         4\n",
       "South Ossetia                  4\n",
       "County of Nice                 4\n",
       "Panjab                         4\n",
       "Tibet                          4\n",
       "Western Sahara                 3\n",
       "Western Armenia                3\n",
       "Găgăuzia                       3\n",
       "Chagos Islands                 3\n",
       "Arameans Suryoye               3\n",
       "Gozo                           3\n",
       "Somaliland                     2\n",
       "Matabeleland                   2\n",
       "Yemen DPR                      2\n",
       "Palau                          2\n",
       "Manchukuo                      2\n",
       "Niue                           2\n",
       "Felvidék                       2\n",
       "Raetia                         2\n",
       "Micronesia FS                  2\n",
       "Cascadia                       1\n",
       "St. Pierre & Miquelon          1\n",
       "Wallis Islands and Futuna      1\n",
       "Romani people                  1\n",
       "Kabylia                        1\n",
       "Sark                           1\n",
       "Artsakh                        1\n",
       "Crimea                         1\n",
       "Name: home_team, Length: 291, dtype: int64"
      ]
     },
     "execution_count": 2,
     "metadata": {},
     "output_type": "execute_result"
    }
   ],
   "source": [
    "Result[\"home_team\"].value_counts()"
   ]
  },
  {
   "cell_type": "code",
   "execution_count": 3,
   "metadata": {},
   "outputs": [
    {
     "data": {
      "text/plain": [
       "Uruguay                    526\n",
       "Sweden                     520\n",
       "England                    499\n",
       "Hungary                    467\n",
       "Paraguay                   441\n",
       "Germany                    438\n",
       "Argentina                  422\n",
       "Poland                     420\n",
       "Finland                    405\n",
       "Brazil                     405\n",
       "Zambia                     401\n",
       "Norway                     397\n",
       "Scotland                   392\n",
       "Korea Republic             388\n",
       "Switzerland                385\n",
       "Russia                     384\n",
       "Denmark                    383\n",
       "Bulgaria                   361\n",
       "Netherlands                359\n",
       "Romania                    357\n",
       "Chile                      356\n",
       "Austria                    351\n",
       "Italy                      351\n",
       "Belgium                    349\n",
       "France                     348\n",
       "Trinidad and Tobago        347\n",
       "Mexico                     347\n",
       "Peru                       331\n",
       "Wales                      325\n",
       "Northern Ireland           323\n",
       "                          ... \n",
       "Provence                     7\n",
       "Panjab                       7\n",
       "Monaco                       6\n",
       "Orkney                       6\n",
       "Kiribati                     6\n",
       "Raetia                       6\n",
       "St. Pierre & Miquelon        6\n",
       "Felvidék                     6\n",
       "South Ossetia                5\n",
       "Kabylia                      5\n",
       "Cascadia                     5\n",
       "County of Nice               5\n",
       "Sápmi                        5\n",
       "Micronesia FS                5\n",
       "Kárpátalja                   5\n",
       "Crimea                       4\n",
       "Two Sicilies                 4\n",
       "Saarland                     3\n",
       "Sark                         3\n",
       "Vatican                      3\n",
       "Artsakh                      3\n",
       "Gozo                         3\n",
       "Darfur                       3\n",
       "Matabeleland                 3\n",
       "United Koreans in Japan      3\n",
       "Romani people                2\n",
       "Somaliland                   2\n",
       "Western Sahara               2\n",
       "Chagos Islands               1\n",
       "Manchukuo                    1\n",
       "Name: away_team, Length: 289, dtype: int64"
      ]
     },
     "execution_count": 3,
     "metadata": {},
     "output_type": "execute_result"
    }
   ],
   "source": [
    "Result[\"away_team\"].value_counts()"
   ]
  },
  {
   "cell_type": "code",
   "execution_count": 4,
   "metadata": {},
   "outputs": [
    {
     "data": {
      "text/plain": [
       "<matplotlib.axes._subplots.AxesSubplot at 0x109f91278>"
      ]
     },
     "execution_count": 4,
     "metadata": {},
     "output_type": "execute_result"
    },
    {
     "data": {
      "image/png": "[encoded data removed]",
      "text/plain": [
       "<Figure size 432x288 with 1 Axes>"
      ]
     },
     "metadata": {},
     "output_type": "display_data"
    }
   ],
   "source": [
    "Result.plot(kind=\"scatter\", x=\"away_score\", y=\"home_score\")"
   ]
  },
  {
   "cell_type": "code",
   "execution_count": 5,
   "metadata": {
    "scrolled": true
   },
   "outputs": [
    {
     "data": {
      "text/html": [
       "<div>\n",
       "<style scoped>\n",
       "    .dataframe tbody tr th:only-of-type {\n",
       "        vertical-align: middle;\n",
       "    }\n",
       "\n",
       "    .dataframe tbody tr th {\n",
       "        vertical-align: top;\n",
       "    }\n",
       "\n",
       "    .dataframe thead th {\n",
       "        text-align: right;\n",
       "    }\n",
       "</style>\n",
       "<table border=\"1\" class=\"dataframe\">\n",
       "  <thead>\n",
       "    <tr style=\"text-align: right;\">\n",
       "      <th></th>\n",
       "      <th>date</th>\n",
       "      <th>home_team</th>\n",
       "      <th>away_team</th>\n",
       "      <th>home_score</th>\n",
       "      <th>away_score</th>\n",
       "      <th>tournament</th>\n",
       "      <th>city</th>\n",
       "      <th>country</th>\n",
       "      <th>neutral</th>\n",
       "    </tr>\n",
       "  </thead>\n",
       "  <tbody>\n",
       "    <tr>\n",
       "      <th>23680</th>\n",
       "      <td>2001-04-11</td>\n",
       "      <td>Australia</td>\n",
       "      <td>American Samoa</td>\n",
       "      <td>31</td>\n",
       "      <td>0</td>\n",
       "      <td>FIFA World Cup qualification</td>\n",
       "      <td>Coffs Harbour</td>\n",
       "      <td>Australia</td>\n",
       "      <td>False</td>\n",
       "    </tr>\n",
       "  </tbody>\n",
       "</table>\n",
       "</div>"
      ],
      "text/plain": [
       "             date  home_team       away_team  home_score  away_score  \\\n",
       "23680  2001-04-11  Australia  American Samoa          31           0   \n",
       "\n",
       "                         tournament           city    country  neutral  \n",
       "23680  FIFA World Cup qualification  Coffs Harbour  Australia    False  "
      ]
     },
     "execution_count": 5,
     "metadata": {},
     "output_type": "execute_result"
    }
   ],
   "source": [
    "Result[Result.home_score == 31]"
   ]
  },
  {
   "cell_type": "code",
   "execution_count": 6,
   "metadata": {},
   "outputs": [
    {
     "data": {
      "text/html": [
       "<div>\n",
       "<style scoped>\n",
       "    .dataframe tbody tr th:only-of-type {\n",
       "        vertical-align: middle;\n",
       "    }\n",
       "\n",
       "    .dataframe tbody tr th {\n",
       "        vertical-align: top;\n",
       "    }\n",
       "\n",
       "    .dataframe thead th {\n",
       "        text-align: right;\n",
       "    }\n",
       "</style>\n",
       "<table border=\"1\" class=\"dataframe\">\n",
       "  <thead>\n",
       "    <tr style=\"text-align: right;\">\n",
       "      <th></th>\n",
       "      <th>date</th>\n",
       "      <th>home_team</th>\n",
       "      <th>away_team</th>\n",
       "      <th>home_score</th>\n",
       "      <th>away_score</th>\n",
       "      <th>tournament</th>\n",
       "      <th>city</th>\n",
       "      <th>country</th>\n",
       "      <th>neutral</th>\n",
       "    </tr>\n",
       "  </thead>\n",
       "  <tbody>\n",
       "    <tr>\n",
       "      <th>27230</th>\n",
       "      <td>2005-03-11</td>\n",
       "      <td>Guam</td>\n",
       "      <td>Korea DPR</td>\n",
       "      <td>0</td>\n",
       "      <td>21</td>\n",
       "      <td>EAFF Championship</td>\n",
       "      <td>Taipei</td>\n",
       "      <td>Taiwan</td>\n",
       "      <td>True</td>\n",
       "    </tr>\n",
       "  </tbody>\n",
       "</table>\n",
       "</div>"
      ],
      "text/plain": [
       "             date home_team  away_team  home_score  away_score  \\\n",
       "27230  2005-03-11      Guam  Korea DPR           0          21   \n",
       "\n",
       "              tournament    city country  neutral  \n",
       "27230  EAFF Championship  Taipei  Taiwan     True  "
      ]
     },
     "execution_count": 6,
     "metadata": {},
     "output_type": "execute_result"
    }
   ],
   "source": [
    "Result[Result.away_score == 21]"
   ]
  },
  {
   "cell_type": "code",
   "execution_count": 7,
   "metadata": {},
   "outputs": [
    {
     "data": {
      "text/plain": [
       "Text(0.5,1,'Brazil Away-Game')"
      ]
     },
     "execution_count": 7,
     "metadata": {},
     "output_type": "execute_result"
    },
    {
     "data": {
      "image/png": "[encoded data removed]",
      "text/plain": [
       "<Figure size 432x288 with 1 Axes>"
      ]
     },
     "metadata": {},
     "output_type": "display_data"
    }
   ],
   "source": [
    "import numpy as np\n",
    "ArgBra= Result[(Result.date > \"2000-01-01\")&(Result.home_team == \"Argentina\")&(Result.away_team == \"Brazil\")]\n",
    "BraArg = Result[(Result.date > \"2000-01-01\")&(Result.home_team == \"Brazil\")&(Result.away_team == \"Argentina\")]\n",
    "ArgBra.plot(kind=\"scatter\", x=\"home_score\", y=\"away_score\")\n",
    "plt.ylabel('Brazil')\n",
    "plt.xlabel('Argentina')\n",
    "plt.xticks(np.arange(0, 6, step=1))\n",
    "plt.yticks(np.arange(0, 6, step=1))\n",
    "plt.title(\"Brazil Away-Game\")"
   ]
  },
  {
   "cell_type": "code",
   "execution_count": 8,
   "metadata": {},
   "outputs": [
    {
     "data": {
      "text/plain": [
       "Text(0.5,1,'Brazil Home-Game')"
      ]
     },
     "execution_count": 8,
     "metadata": {},
     "output_type": "execute_result"
    },
    {
     "data": {
      "image/png": "[encoded data removed]",
      "text/plain": [
       "<Figure size 432x288 with 1 Axes>"
      ]
     },
     "metadata": {},
     "output_type": "display_data"
    }
   ],
   "source": [
    "BraArg.plot(kind=\"scatter\", x=\"away_score\", y=\"home_score\")\n",
    "plt.ylabel('Brazil')\n",
    "plt.xlabel('Argentina')\n",
    "plt.xticks(np.arange(0, 6, step=1))\n",
    "plt.yticks(np.arange(0, 6, step=1))\n",
    "plt.title(\"Brazil Home-Game\")"
   ]
  },
  {
   "cell_type": "code",
   "execution_count": 9,
   "metadata": {},
   "outputs": [
    {
     "data": {
      "text/plain": [
       "Text(0.5,1,'Three Nations Home-Score vs. Away_Score')"
      ]
     },
     "execution_count": 9,
     "metadata": {},
     "output_type": "execute_result"
    },
    {
     "data": {
      "image/png": "[encoded data removed]",
      "text/plain": [
       "<Figure size 653.25x576 with 1 Axes>"
      ]
     },
     "metadata": {},
     "output_type": "display_data"
    }
   ],
   "source": [
    "ThreeTeam = Result[(Result.date > \"2017-01-01\")&((Result.home_team == \"Germany\")|(Result.home_team == \"USA\")|(Result.home_team == \"China\"))]\n",
    "\n",
    "sns.FacetGrid(ThreeTeam, hue=\"home_team\", size=8) \\\n",
    "   .map(plt.scatter, \"home_score\", \"away_score\") \\\n",
    "   .add_legend()\n",
    "plt.xticks(np.arange(0, 11, step=1))\n",
    "plt.yticks(np.arange(0, 11, step=1))\n",
    "plt.title(\"Three Nations Home-Score vs. Away_Score\")"
   ]
  },
  {
   "cell_type": "code",
   "execution_count": 10,
   "metadata": {},
   "outputs": [
    {
     "data": {
      "image/png": "[encoded data removed]",
      "text/plain": [
       "<Figure size 941.25x864 with 12 Axes>"
      ]
     },
     "metadata": {},
     "output_type": "display_data"
    }
   ],
   "source": [
    "sns.pairplot(ThreeTeam, hue='home_team', size=4)\n",
    "plt.show()"
   ]
  }
 ],
 "metadata": {
  "kernelspec": {
   "display_name": "Python 3",
   "language": "python",
   "name": "python3"
  },
  "language_info": {
   "codemirror_mode": {
    "name": "ipython",
    "version": 3
   },
   "file_extension": ".py",
   "mimetype": "text/x-python",
   "name": "python",
   "nbconvert_exporter": "python",
   "pygments_lexer": "ipython3",
   "version": "3.6.5"
  }
 },
 "nbformat": 4,
 "nbformat_minor": 2
}

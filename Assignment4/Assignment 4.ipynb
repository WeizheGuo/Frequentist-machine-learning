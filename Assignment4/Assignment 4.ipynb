{
 "cells": [
  {
   "cell_type": "code",
   "execution_count": 80,
   "metadata": {},
   "outputs": [
    {
     "data": {
      "text/html": [
       "<div>\n",
       "<style scoped>\n",
       "    .dataframe tbody tr th:only-of-type {\n",
       "        vertical-align: middle;\n",
       "    }\n",
       "\n",
       "    .dataframe tbody tr th {\n",
       "        vertical-align: top;\n",
       "    }\n",
       "\n",
       "    .dataframe thead th {\n",
       "        text-align: right;\n",
       "    }\n",
       "</style>\n",
       "<table border=\"1\" class=\"dataframe\">\n",
       "  <thead>\n",
       "    <tr style=\"text-align: right;\">\n",
       "      <th></th>\n",
       "      <th>0</th>\n",
       "      <th>1</th>\n",
       "      <th>2</th>\n",
       "      <th>3</th>\n",
       "      <th>4</th>\n",
       "      <th>5</th>\n",
       "      <th>6</th>\n",
       "      <th>7</th>\n",
       "      <th>8</th>\n",
       "      <th>9</th>\n",
       "      <th>...</th>\n",
       "      <th>4991</th>\n",
       "      <th>4992</th>\n",
       "      <th>4993</th>\n",
       "      <th>4994</th>\n",
       "      <th>4995</th>\n",
       "      <th>4996</th>\n",
       "      <th>4997</th>\n",
       "      <th>4998</th>\n",
       "      <th>4999</th>\n",
       "      <th>target</th>\n",
       "    </tr>\n",
       "  </thead>\n",
       "  <tbody>\n",
       "    <tr>\n",
       "      <th>0</th>\n",
       "      <td>-0.977785</td>\n",
       "      <td>-0.106980</td>\n",
       "      <td>0.763849</td>\n",
       "      <td>0.742905</td>\n",
       "      <td>-0.552218</td>\n",
       "      <td>-0.580197</td>\n",
       "      <td>0.358664</td>\n",
       "      <td>1.574469</td>\n",
       "      <td>1.357823</td>\n",
       "      <td>0.118372</td>\n",
       "      <td>...</td>\n",
       "      <td>0.712322</td>\n",
       "      <td>-0.731956</td>\n",
       "      <td>-0.608379</td>\n",
       "      <td>-0.590787</td>\n",
       "      <td>0.869450</td>\n",
       "      <td>-0.403814</td>\n",
       "      <td>1.165266</td>\n",
       "      <td>-0.909024</td>\n",
       "      <td>-0.536386</td>\n",
       "      <td>0.0</td>\n",
       "    </tr>\n",
       "    <tr>\n",
       "      <th>1</th>\n",
       "      <td>-0.186673</td>\n",
       "      <td>-0.883358</td>\n",
       "      <td>-0.255199</td>\n",
       "      <td>0.633539</td>\n",
       "      <td>-1.875810</td>\n",
       "      <td>-1.230703</td>\n",
       "      <td>0.082797</td>\n",
       "      <td>-0.326904</td>\n",
       "      <td>0.961917</td>\n",
       "      <td>1.101874</td>\n",
       "      <td>...</td>\n",
       "      <td>0.760926</td>\n",
       "      <td>-0.497776</td>\n",
       "      <td>0.426173</td>\n",
       "      <td>-0.513021</td>\n",
       "      <td>-1.133707</td>\n",
       "      <td>0.241350</td>\n",
       "      <td>-0.718777</td>\n",
       "      <td>-1.298027</td>\n",
       "      <td>-1.555230</td>\n",
       "      <td>1.0</td>\n",
       "    </tr>\n",
       "    <tr>\n",
       "      <th>2</th>\n",
       "      <td>-0.063452</td>\n",
       "      <td>0.191452</td>\n",
       "      <td>0.561264</td>\n",
       "      <td>-0.650824</td>\n",
       "      <td>0.198555</td>\n",
       "      <td>0.243571</td>\n",
       "      <td>-0.607082</td>\n",
       "      <td>0.174371</td>\n",
       "      <td>-0.810086</td>\n",
       "      <td>0.437259</td>\n",
       "      <td>...</td>\n",
       "      <td>1.382655</td>\n",
       "      <td>0.256860</td>\n",
       "      <td>-0.640723</td>\n",
       "      <td>0.591531</td>\n",
       "      <td>-2.192292</td>\n",
       "      <td>2.260488</td>\n",
       "      <td>-0.345750</td>\n",
       "      <td>-1.779267</td>\n",
       "      <td>0.777999</td>\n",
       "      <td>0.0</td>\n",
       "    </tr>\n",
       "    <tr>\n",
       "      <th>3</th>\n",
       "      <td>-0.311741</td>\n",
       "      <td>-0.341135</td>\n",
       "      <td>0.706517</td>\n",
       "      <td>-0.424569</td>\n",
       "      <td>1.397418</td>\n",
       "      <td>-0.304486</td>\n",
       "      <td>-0.122573</td>\n",
       "      <td>-1.311878</td>\n",
       "      <td>-0.696123</td>\n",
       "      <td>0.155481</td>\n",
       "      <td>...</td>\n",
       "      <td>-0.130042</td>\n",
       "      <td>-0.203032</td>\n",
       "      <td>-1.463549</td>\n",
       "      <td>-1.913738</td>\n",
       "      <td>1.298719</td>\n",
       "      <td>0.872560</td>\n",
       "      <td>0.858468</td>\n",
       "      <td>0.580325</td>\n",
       "      <td>-0.045194</td>\n",
       "      <td>0.0</td>\n",
       "    </tr>\n",
       "    <tr>\n",
       "      <th>4</th>\n",
       "      <td>-0.798513</td>\n",
       "      <td>-0.294098</td>\n",
       "      <td>-2.234500</td>\n",
       "      <td>0.208187</td>\n",
       "      <td>1.785191</td>\n",
       "      <td>0.259976</td>\n",
       "      <td>0.324820</td>\n",
       "      <td>-1.212331</td>\n",
       "      <td>1.460199</td>\n",
       "      <td>-0.423443</td>\n",
       "      <td>...</td>\n",
       "      <td>0.924713</td>\n",
       "      <td>0.021987</td>\n",
       "      <td>-0.077208</td>\n",
       "      <td>-1.152505</td>\n",
       "      <td>-0.504336</td>\n",
       "      <td>-0.816697</td>\n",
       "      <td>-1.237752</td>\n",
       "      <td>1.381503</td>\n",
       "      <td>-1.085933</td>\n",
       "      <td>1.0</td>\n",
       "    </tr>\n",
       "  </tbody>\n",
       "</table>\n",
       "<p>5 rows × 5001 columns</p>\n",
       "</div>"
      ],
      "text/plain": [
       "          0         1         2         3         4         5         6  \\\n",
       "0 -0.977785 -0.106980  0.763849  0.742905 -0.552218 -0.580197  0.358664   \n",
       "1 -0.186673 -0.883358 -0.255199  0.633539 -1.875810 -1.230703  0.082797   \n",
       "2 -0.063452  0.191452  0.561264 -0.650824  0.198555  0.243571 -0.607082   \n",
       "3 -0.311741 -0.341135  0.706517 -0.424569  1.397418 -0.304486 -0.122573   \n",
       "4 -0.798513 -0.294098 -2.234500  0.208187  1.785191  0.259976  0.324820   \n",
       "\n",
       "          7         8         9   ...        4991      4992      4993  \\\n",
       "0  1.574469  1.357823  0.118372   ...    0.712322 -0.731956 -0.608379   \n",
       "1 -0.326904  0.961917  1.101874   ...    0.760926 -0.497776  0.426173   \n",
       "2  0.174371 -0.810086  0.437259   ...    1.382655  0.256860 -0.640723   \n",
       "3 -1.311878 -0.696123  0.155481   ...   -0.130042 -0.203032 -1.463549   \n",
       "4 -1.212331  1.460199 -0.423443   ...    0.924713  0.021987 -0.077208   \n",
       "\n",
       "       4994      4995      4996      4997      4998      4999  target  \n",
       "0 -0.590787  0.869450 -0.403814  1.165266 -0.909024 -0.536386     0.0  \n",
       "1 -0.513021 -1.133707  0.241350 -0.718777 -1.298027 -1.555230     1.0  \n",
       "2  0.591531 -2.192292  2.260488 -0.345750 -1.779267  0.777999     0.0  \n",
       "3 -1.913738  1.298719  0.872560  0.858468  0.580325 -0.045194     0.0  \n",
       "4 -1.152505 -0.504336 -0.816697 -1.237752  1.381503 -1.085933     1.0  \n",
       "\n",
       "[5 rows x 5001 columns]"
      ]
     },
     "execution_count": 80,
     "metadata": {},
     "output_type": "execute_result"
    }
   ],
   "source": [
    "# Weizhe Guo\n",
    "# Oct 10th 2018\n",
    "import pandas as pd\n",
    "import numpy as np\n",
    "import warnings\n",
    "warnings.filterwarnings(\"ignore\")\n",
    "import matplotlib.pyplot as plt\n",
    "import random\n",
    "from sklearn.linear_model import LogisticRegression\n",
    "from sklearn.model_selection import cross_val_score\n",
    "from sklearn.linear_model import LogisticRegressionCV\n",
    "from sklearn.model_selection import StratifiedKFold\n",
    "from sklearn.metrics import mean_squared_error\n",
    "import sklearn.metrics\n",
    "\n",
    "num_pred = 5000\n",
    "\n",
    "df = pd.DataFrame(np.random.normal(0, 1, size=(50,5000)).astype(np.float32))\n",
    "x = df.copy()\n",
    "\n",
    "y = np.hstack((np.zeros(25),np.ones(25)))\n",
    "random.shuffle(y)\n",
    "\n",
    "df['target'] = y\n",
    "df.head()"
   ]
  },
  {
   "cell_type": "code",
   "execution_count": 64,
   "metadata": {},
   "outputs": [
    {
     "data": {
      "text/plain": [
       "(99,)"
      ]
     },
     "execution_count": 64,
     "metadata": {},
     "output_type": "execute_result"
    }
   ],
   "source": [
    "corr = df.corr()['target']\n",
    "corr = corr.abs().sort_values(ascending=False)[0:100]\n",
    "\n",
    "corr = corr.iloc[1:,]\n",
    "print(corr.shape)"
   ]
  },
  {
   "cell_type": "code",
   "execution_count": 89,
   "metadata": {},
   "outputs": [
    {
     "name": "stdout",
     "output_type": "stream",
     "text": [
      "The wrong way has error: 0.1\n"
     ]
    }
   ],
   "source": [
    "features = corr.index.values\n",
    "#print(features.shape)\n",
    "sample = np.random.randint(0,50,size=10)\n",
    "\n",
    "x_w = df[corr.index.values]\n",
    "df2 = df.iloc[sample,features]\n",
    "df2['target'] = y[sample]\n",
    "corr2 = df2.corr()['target']\n",
    "#print(df2.head)\n",
    "\n",
    "wrong_log = LogisticRegressionCV(cv=5).fit(x_w,y)\n",
    "pred = wrong_log.predict(x_w)\n",
    "err = mean_squared_error(y,pred)\n",
    "print(\"The wrong way has avg mse:\", err)"
   ]
  },
  {
   "cell_type": "code",
   "execution_count": 90,
   "metadata": {},
   "outputs": [
    {
     "data": {
      "text/plain": [
       "(array([ 4., 13., 16., 18., 23., 13.,  8.,  3.,  2.]),\n",
       " array([-0.639556  , -0.45738311, -0.27521022, -0.09303733,  0.08913556,\n",
       "         0.27130844,  0.45348133,  0.63565422,  0.81782711,  1.        ]),\n",
       " <a list of 9 Patch objects>)"
      ]
     },
     "execution_count": 90,
     "metadata": {},
     "output_type": "execute_result"
    },
    {
     "data": {
      "image/png": "[encoded data removed]",
      "text/plain": [
       "<Figure size 432x288 with 1 Axes>"
      ]
     },
     "metadata": {},
     "output_type": "display_data"
    }
   ],
   "source": [
    "#The wrong way plot\n",
    "plt.hist(corr2, bins='auto')"
   ]
  },
  {
   "cell_type": "code",
   "execution_count": 95,
   "metadata": {},
   "outputs": [
    {
     "name": "stdout",
     "output_type": "stream",
     "text": [
      "The right way has avg mse: 0.44000000000000006\n"
     ]
    }
   ],
   "source": [
    "# The right way\n",
    "kf = StratifiedKFold(n_splits=5)\n",
    "mse = []\n",
    "\n",
    "for train, test in kf.split(x,y):\n",
    "    trainfold = df.iloc[train]\n",
    "    testfold = df.iloc[test]\n",
    "    \n",
    "    corr3 = trainfold.corr()['target']\n",
    "    corr3 = corr3.abs().sort_values(ascending=False)[0:100]\n",
    "\n",
    "    \n",
    "    df3 = testfold[corr.index.values]\n",
    "    df3['target'] = y[test]\n",
    "    corr3 = df3.corr()['target']\n",
    "    \n",
    "    trainfold_x  = trainfold[corr.index.values]\n",
    "    trainfold_y = trainfold['target']\n",
    "    \n",
    "    right_log = LogisticRegressionCV(cv=5).fit(trainfold_x, trainfold_y)\n",
    "    \n",
    "    y_pred = right_log.predict(testfold[corr.index.values])\n",
    "    mse.append(mean_squared_error(testfold['target'], y_pred))\n",
    "    \n",
    "print(\"The right way has avg mse:\", np.array(mse).mean())"
   ]
  },
  {
   "cell_type": "code",
   "execution_count": 93,
   "metadata": {},
   "outputs": [
    {
     "data": {
      "text/plain": [
       "(array([ 3., 10., 14., 23., 19., 16.,  6.,  7.,  2.]),\n",
       " array([-0.78984812, -0.59097611, -0.3921041 , -0.19323208,  0.00563993,\n",
       "         0.20451195,  0.40338396,  0.60225597,  0.80112799,  1.        ]),\n",
       " <a list of 9 Patch objects>)"
      ]
     },
     "execution_count": 93,
     "metadata": {},
     "output_type": "execute_result"
    },
    {
     "data": {
      "image/png": "[encoded data removed]",
      "text/plain": [
       "<Figure size 432x288 with 1 Axes>"
      ]
     },
     "metadata": {},
     "output_type": "display_data"
    }
   ],
   "source": [
    "# The right way correlation plot\n",
    "plt.hist(corr3, bins='auto')"
   ]
  }
 ],
 "metadata": {
  "kernelspec": {
   "display_name": "Python 3",
   "language": "python",
   "name": "python3"
  },
  "language_info": {
   "codemirror_mode": {
    "name": "ipython",
    "version": 3
   },
   "file_extension": ".py",
   "mimetype": "text/x-python",
   "name": "python",
   "nbconvert_exporter": "python",
   "pygments_lexer": "ipython3",
   "version": "3.6.5"
  }
 },
 "nbformat": 4,
 "nbformat_minor": 2
}
